{
 "cells": [
  {
   "cell_type": "markdown",
   "id": "6736929a359e2e0",
   "metadata": {},
   "source": [
    "## Working with CSV using it's all Method to handle csv Files"
   ]
  },
  {
   "cell_type": "code",
   "execution_count": 5,
   "id": "82b788634828c1d1",
   "metadata": {
    "ExecuteTime": {
     "end_time": "2025-03-18T15:39:54.476462Z",
     "start_time": "2025-03-18T15:39:54.218941Z"
    }
   },
   "outputs": [],
   "source": [
    "import pandas as pd"
   ]
  },
  {
   "cell_type": "code",
   "execution_count": 7,
   "id": "c70ac1f219b944a0",
   "metadata": {
    "ExecuteTime": {
     "end_time": "2025-03-18T15:41:44.684604Z",
     "start_time": "2025-03-18T15:41:44.679020Z"
    }
   },
   "outputs": [],
   "source": [
    "df = pd.read_csv('daily_and_month_call_report.csv')"
   ]
  },
  {
   "cell_type": "code",
   "execution_count": 4,
   "id": "3f307737088a2289",
   "metadata": {
    "ExecuteTime": {
     "end_time": "2025-03-18T15:39:51.949739Z",
     "start_time": "2025-03-18T15:39:48.655947Z"
    }
   },
   "outputs": [
    {
     "name": "stdout",
     "output_type": "stream",
     "text": [
      "Collecting pandas\r\n",
      "  Using cached pandas-2.2.3-cp312-cp312-macosx_11_0_arm64.whl.metadata (89 kB)\r\n",
      "Requirement already satisfied: numpy>=1.26.0 in /Applications/Anaconda/anaconda3/envs/forPycharm/lib/python3.12/site-packages (from pandas) (2.0.1)\r\n",
      "Requirement already satisfied: python-dateutil>=2.8.2 in /Applications/Anaconda/anaconda3/envs/forPycharm/lib/python3.12/site-packages (from pandas) (2.9.0.post0)\r\n",
      "Collecting pytz>=2020.1 (from pandas)\r\n",
      "  Using cached pytz-2025.1-py2.py3-none-any.whl.metadata (22 kB)\r\n",
      "Collecting tzdata>=2022.7 (from pandas)\r\n",
      "  Using cached tzdata-2025.1-py2.py3-none-any.whl.metadata (1.4 kB)\r\n",
      "Requirement already satisfied: six>=1.5 in /Applications/Anaconda/anaconda3/envs/forPycharm/lib/python3.12/site-packages (from python-dateutil>=2.8.2->pandas) (1.16.0)\r\n",
      "Using cached pandas-2.2.3-cp312-cp312-macosx_11_0_arm64.whl (11.4 MB)\r\n",
      "Using cached pytz-2025.1-py2.py3-none-any.whl (507 kB)\r\n",
      "Using cached tzdata-2025.1-py2.py3-none-any.whl (346 kB)\r\n",
      "Installing collected packages: pytz, tzdata, pandas\r\n",
      "Successfully installed pandas-2.2.3 pytz-2025.1 tzdata-2025.1\r\n"
     ]
    }
   ],
   "source": [
    "ff!pip install pandas"
   ]
  },
  {
   "cell_type": "code",
   "execution_count": null,
   "id": "21c771e846cfb314",
   "metadata": {},
   "outputs": [],
   "source": []
  }
 ],
 "metadata": {
  "kernelspec": {
   "display_name": "Python [conda env:base] *",
   "language": "python",
   "name": "conda-base-py"
  },
  "language_info": {
   "codemirror_mode": {
    "name": "ipython",
    "version": 3
   },
   "file_extension": ".py",
   "mimetype": "text/x-python",
   "name": "python",
   "nbconvert_exporter": "python",
   "pygments_lexer": "ipython3",
   "version": "3.12.7"
  }
 },
 "nbformat": 4,
 "nbformat_minor": 5
}
