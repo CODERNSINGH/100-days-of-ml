{
 "cells": [
  {
   "metadata": {},
   "cell_type": "markdown",
   "source": "## Working with CSV using it's all Method to handle csv Files",
   "id": "6736929a359e2e0"
  },
  {
   "metadata": {
    "ExecuteTime": {
     "end_time": "2025-03-18T15:39:54.476462Z",
     "start_time": "2025-03-18T15:39:54.218941Z"
    }
   },
   "cell_type": "code",
   "source": "import pandas as pd",
   "id": "82b788634828c1d1",
   "outputs": [],
   "execution_count": 5
  },
  {
   "metadata": {
    "ExecuteTime": {
     "end_time": "2025-03-18T15:41:44.684604Z",
     "start_time": "2025-03-18T15:41:44.679020Z"
    }
   },
   "cell_type": "code",
   "source": "df = pd.read_csv('daily_and_month_call_report.csv')",
   "id": "c70ac1f219b944a0",
   "outputs": [],
   "execution_count": 7
  },
  {
   "metadata": {
    "ExecuteTime": {
     "end_time": "2025-03-18T15:39:51.949739Z",
     "start_time": "2025-03-18T15:39:48.655947Z"
    }
   },
   "cell_type": "code",
   "source": "ff!pip install pandas",
   "id": "3f307737088a2289",
   "outputs": [
    {
     "name": "stdout",
     "output_type": "stream",
     "text": [
      "Collecting pandas\r\n",
      "  Using cached pandas-2.2.3-cp312-cp312-macosx_11_0_arm64.whl.metadata (89 kB)\r\n",
      "Requirement already satisfied: numpy>=1.26.0 in /Applications/Anaconda/anaconda3/envs/forPycharm/lib/python3.12/site-packages (from pandas) (2.0.1)\r\n",
      "Requirement already satisfied: python-dateutil>=2.8.2 in /Applications/Anaconda/anaconda3/envs/forPycharm/lib/python3.12/site-packages (from pandas) (2.9.0.post0)\r\n",
      "Collecting pytz>=2020.1 (from pandas)\r\n",
      "  Using cached pytz-2025.1-py2.py3-none-any.whl.metadata (22 kB)\r\n",
      "Collecting tzdata>=2022.7 (from pandas)\r\n",
      "  Using cached tzdata-2025.1-py2.py3-none-any.whl.metadata (1.4 kB)\r\n",
      "Requirement already satisfied: six>=1.5 in /Applications/Anaconda/anaconda3/envs/forPycharm/lib/python3.12/site-packages (from python-dateutil>=2.8.2->pandas) (1.16.0)\r\n",
      "Using cached pandas-2.2.3-cp312-cp312-macosx_11_0_arm64.whl (11.4 MB)\r\n",
      "Using cached pytz-2025.1-py2.py3-none-any.whl (507 kB)\r\n",
      "Using cached tzdata-2025.1-py2.py3-none-any.whl (346 kB)\r\n",
      "Installing collected packages: pytz, tzdata, pandas\r\n",
      "Successfully installed pandas-2.2.3 pytz-2025.1 tzdata-2025.1\r\n"
     ]
    }
   ],
   "execution_count": 4
  },
  {
   "metadata": {},
   "cell_type": "code",
   "outputs": [],
   "execution_count": null,
   "source": "",
   "id": "21c771e846cfb314"
  }
 ],
 "metadata": {
  "kernelspec": {
   "display_name": "Python 3",
   "language": "python",
   "name": "python3"
  },
  "language_info": {
   "codemirror_mode": {
    "name": "ipython",
    "version": 2
   },
   "file_extension": ".py",
   "mimetype": "text/x-python",
   "name": "python",
   "nbconvert_exporter": "python",
   "pygments_lexer": "ipython2",
   "version": "2.7.6"
  }
 },
 "nbformat": 4,
 "nbformat_minor": 5
}
