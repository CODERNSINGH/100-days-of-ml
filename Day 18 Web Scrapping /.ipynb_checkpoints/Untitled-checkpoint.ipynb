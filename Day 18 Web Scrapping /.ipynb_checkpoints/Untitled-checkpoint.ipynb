{
 "cells": [
  {
   "cell_type": "markdown",
   "id": "3e6304b5-6dbb-46a4-b369-f47c1e0610c2",
   "metadata": {},
   "source": [
    "## Web Scrapping \n",
    "link: https://www.ambitionbox.com/list-of-companies?campaign=desktop_nav&page=2 \n",
    "\n",
    "### what we are going to do?\n",
    "* we are going to fetech all data of company name rationg offices employs all of these Tags, about and more thing we will do it"
   ]
  },
  {
   "cell_type": "code",
   "execution_count": null,
   "id": "4406ebbc-dc52-4194-b1a6-dec13b345ddc",
   "metadata": {},
   "outputs": [],
   "source": [
    "import pandas as pd\n",
    "import requests \n",
    "from bs4 import BeautifulSoup # this is web scapping linraray"
   ]
  },
  {
   "cell_type": "code",
   "execution_count": null,
   "id": "56d4eba8-a3cc-4009-8709-893487d0a256",
   "metadata": {},
   "outputs": [],
   "source": [
    "requests.get('https://www.ambitionbox.com/list-of-companies?campaign=desktop_nav&page=2')"
   ]
  },
  {
   "cell_type": "markdown",
   "id": "c3c98be5-87c9-4e1e-8595-681178341093",
   "metadata": {},
   "source": [
    "## this resopnse means bad request accsess denied to server let's check"
   ]
  },
  {
   "cell_type": "code",
   "execution_count": null,
   "id": "1945782f-5298-428f-8bc8-3698c5df787a",
   "metadata": {},
   "outputs": [],
   "source": [
    "requests.get('https://www.ambitionbox.com/list-of-companies?campaign=desktop_nav&page=2').text"
   ]
  },
  {
   "cell_type": "markdown",
   "id": "76b5ddef-868e-4980-a2c9-7773ebd93bfc",
   "metadata": {},
   "source": [
    "### why is so\n",
    "* there is a thing called roborts.txt if put name of file to that webscappers and google cannot accsess that we cannot directly\n",
    "##### to solve this we have to show like it's a request from Browser using some h1 and all\n",
    "\n",
    "# if response code is 403\n",
    "## 1. Method 1\n",
    " - headers={'User-Agent':'Mozilla/5.0 (Windows NT 6.3; Win 64 ; x64) Apple WeKit /537.36(KHTML , like Gecko) Chrome/80.0.3987.162 Safari/537.36'}\n",
    " - requests.get('url',headers=headers).text\n",
    "\n",
    "## 2. Method 2\n",
    "import requests\n",
    "\n",
    "headers = {\n",
    "    'User-Agent': 'Mozilla/5.0 (Windows NT 10.0; Win64; x64) AppleWebKit/537.36 (KHTML, like Gecko) Chrome/110.0.0.0 Safari/537.36',\n",
    "    'Accept-Language': 'en-US,en;q=0.9',\n",
    "    'Referer': 'https://www.ambitionbox.com/'\n",
    "}\n",
    "\n",
    "url = 'https://www.ambitionbox.com/list-of-companies?campaign=desktop_nav&page=2'\n",
    "response = requests.get(url, headers=headers)\n",
    "\n",
    "print(response.text)"
   ]
  },
  {
   "cell_type": "code",
   "execution_count": null,
   "id": "8e93bbb9-9b62-4742-97f8-6db8de0e9352",
   "metadata": {},
   "outputs": [],
   "source": [
    "headers={'User-Agent':'Mozilla/5.0 (Windows NT 6.3; Win 64 ; x64) Apple WeKit /537.36(KHTML , like Gecko) Chrome/80.0.3987.162 Safari/537.36'}\n",
    "resonse = requests.get('https://finance.yahoo.com/research-hub/screener/sec-ind_sec-largest-equities_technology/',headers=headers).json()\n",
    "\n",
    "\n",
    "response"
   ]
  },
  {
   "cell_type": "code",
   "execution_count": null,
   "id": "5fda22ed-7353-49ad-9757-87438b401777",
   "metadata": {},
   "outputs": [],
   "source": [
    "\n"
   ]
  },
  {
   "cell_type": "code",
   "execution_count": null,
   "id": "95a90c09-d88d-417e-81c5-55bbcaa5ac91",
   "metadata": {},
   "outputs": [],
   "source": []
  }
 ],
 "metadata": {
  "kernelspec": {
   "display_name": "Python [conda env:base] *",
   "language": "python",
   "name": "conda-base-py"
  },
  "language_info": {
   "codemirror_mode": {
    "name": "ipython",
    "version": 3
   },
   "file_extension": ".py",
   "mimetype": "text/x-python",
   "name": "python",
   "nbconvert_exporter": "python",
   "pygments_lexer": "ipython3",
   "version": "3.12.7"
  }
 },
 "nbformat": 4,
 "nbformat_minor": 5
}
