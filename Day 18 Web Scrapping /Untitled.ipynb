{
 "cells": [
  {
   "cell_type": "markdown",
   "id": "3e6304b5-6dbb-46a4-b369-f47c1e0610c2",
   "metadata": {},
   "source": [
    "## Web Scrapping \n",
    "link: https://www.ambitionbox.com/list-of-companies?campaign=desktop_nav&page=2 \n",
    "\n",
    "### what we are going to do?\n",
    "* we are going to fetech all data of company name rationg offices employs all of these Tags, about and more thing we will do it"
   ]
  },
  {
   "cell_type": "code",
   "execution_count": 36,
   "id": "4406ebbc-dc52-4194-b1a6-dec13b345ddc",
   "metadata": {},
   "outputs": [],
   "source": [
    "import pandas as pd\n",
    "import requests \n",
    "from bs4 import BeautifulSoup # this is web scapping linraray"
   ]
  },
  {
   "cell_type": "code",
   "execution_count": 38,
   "id": "56d4eba8-a3cc-4009-8709-893487d0a256",
   "metadata": {},
   "outputs": [
    {
     "data": {
      "text/plain": [
       "<Response [200]>"
      ]
     },
     "execution_count": 38,
     "metadata": {},
     "output_type": "execute_result"
    }
   ],
   "source": [
    "requests.get('https://www.geeksforgeeks.org/explore?page=11&sortBy=submissions')"
   ]
  },
  {
   "cell_type": "markdown",
   "id": "c3c98be5-87c9-4e1e-8595-681178341093",
   "metadata": {},
   "source": [
    "# if RESPONAE IS 403\n",
    "## this resopnse means bad request accsess denied to server let's check"
   ]
  },
  {
   "cell_type": "code",
   "execution_count": 40,
   "id": "1945782f-5298-428f-8bc8-3698c5df787a",
   "metadata": {},
   "outputs": [],
   "source": [
    "webpage = requests.get('https://www.geeksforgeeks.org/explore?page=11&sortBy=submissions').text\n"
   ]
  },
  {
   "cell_type": "markdown",
   "id": "76b5ddef-868e-4980-a2c9-7773ebd93bfc",
   "metadata": {},
   "source": [
    "### why is so\n",
    "* there is a thing called roborts.txt if put name of file to that webscappers and google cannot accsess that we cannot directly\n",
    "##### to solve this we have to show like it's a request from Browser using some h1 and all\n",
    "\n",
    "# if response code is 403\n",
    "## 1. Method 1\n",
    " - headers={'User-Agent':'Mozilla/5.0 (Windows NT 6.3; Win 64 ; x64) Apple WeKit /537.36(KHTML , like Gecko) Chrome/80.0.3987.162 Safari/537.36'}\n",
    " - requests.get('url',headers=headers).text\n",
    "\n",
    "## 2. Method 2\n",
    "import requests\n",
    "\n",
    "headers = {\n",
    "    'User-Agent': 'Mozilla/5.0 (Windows NT 10.0; Win64; x64) AppleWebKit/537.36 (KHTML, like Gecko) Chrome/110.0.0.0 Safari/537.36',\n",
    "    'Accept-Language': 'en-US,en;q=0.9',\n",
    "    'Referer': 'https://www.ambitionbox.com/'\n",
    "}\n",
    "\n",
    "url = 'https://www.ambitionbox.com/list-of-companies?campaign=desktop_nav&page=2'\n",
    "response = requests.get(url, headers=headers)\n",
    "\n",
    "print(response.text)"
   ]
  },
  {
   "cell_type": "code",
   "execution_count": 46,
   "id": "8e93bbb9-9b62-4742-97f8-6db8de0e9352",
   "metadata": {},
   "outputs": [],
   "source": [
    "import requests\n",
    "\n",
    "headers = {\n",
    "    'User-Agent': 'Mozilla/5.0 (Windows NT 10.0; Win64; x64) AppleWebKit/537.36 (KHTML, like Gecko) Chrome/110.0.0.0 Safari/537.36'}\n",
    "\n",
    "url = 'https://leetcode.com/problemset/?page=2'\n",
    "response = requests.get(url, headers=headers).text\n",
    "\n",
    "\n"
   ]
  },
  {
   "cell_type": "markdown",
   "id": "44235c76-aeec-4c02-98f5-2ce775e34b18",
   "metadata": {},
   "source": [
    "# if RESPONSE is 200\n",
    "## Using BeautifulSoup"
   ]
  },
  {
   "cell_type": "code",
   "execution_count": 42,
   "id": "95a90c09-d88d-417e-81c5-55bbcaa5ac91",
   "metadata": {},
   "outputs": [],
   "source": [
    "soup = BeautifulSoup(webpage,'lxml')"
   ]
  },
  {
   "cell_type": "code",
   "execution_count": 114,
   "id": "f7d3a786-c304-42fe-ac17-e9453fb11b97",
   "metadata": {},
   "outputs": [],
   "source": [
    "# print(soup.prettify())"
   ]
  },
  {
   "cell_type": "markdown",
   "id": "24d4b7e0-f920-44df-8a2e-64ce3a6f989f",
   "metadata": {},
   "source": [
    "## This is the div which i want to choose above is parent and below is child which have multiple child"
   ]
  },
  {
   "cell_type": "code",
   "execution_count": 30,
   "id": "9e1044af-e6a0-4633-97b4-4ac903cc1f7c",
   "metadata": {},
   "outputs": [],
   "source": [
    "#scrollableDivMobile > div > div > div.\n",
    "# #scrollableDivMobile > div > div > div.explore_problems_container__Ols1C > div"
   ]
  },
  {
   "cell_type": "markdown",
   "id": "3d8dc23e-cdac-43c1-88a9-89b67a13f48d",
   "metadata": {},
   "source": [
    "#### if we have to find all h1 tags we use"
   ]
  },
  {
   "cell_type": "code",
   "execution_count": 116,
   "id": "76441d34-d348-45d1-a81c-4435a03ac82c",
   "metadata": {},
   "outputs": [],
   "source": [
    "tem = soup.find_all('div',class_='ui')"
   ]
  },
  {
   "cell_type": "code",
   "execution_count": 70,
   "id": "fa44e3c1-51eb-4720-ab9f-7031d3ac69cb",
   "metadata": {},
   "outputs": [
    {
     "data": {
      "text/plain": [
       "'Filters'"
      ]
     },
     "execution_count": 70,
     "metadata": {},
     "output_type": "execute_result"
    }
   ],
   "source": [
    "soup.find_all('h2')[1].text"
   ]
  },
  {
   "cell_type": "code",
   "execution_count": 86,
   "id": "2141d1bb-29ba-49c6-9a37-2c0920254c2b",
   "metadata": {},
   "outputs": [
    {
     "data": {
      "text/plain": [
       "[]"
      ]
     },
     "execution_count": 86,
     "metadata": {},
     "output_type": "execute_result"
    }
   ],
   "source": [
    "soup.find_all('div',class_=\"infinite-scroll-component explore_problems__pSN5O\")"
   ]
  },
  {
   "cell_type": "code",
   "execution_count": 88,
   "id": "b03e9303-d73d-4eb2-9564-b95643aa1b43",
   "metadata": {},
   "outputs": [],
   "source": [
    "import re\n",
    "\n",
    "divs = soup.find_all('div', class_=re.compile(\"infinite-scroll-component\"))"
   ]
  },
  {
   "cell_type": "code",
   "execution_count": 90,
   "id": "8fec510f-e2a8-4350-afc7-939330073b42",
   "metadata": {},
   "outputs": [
    {
     "data": {
      "text/plain": [
       "[]"
      ]
     },
     "execution_count": 90,
     "metadata": {},
     "output_type": "execute_result"
    }
   ],
   "source": [
    "divs"
   ]
  },
  {
   "cell_type": "markdown",
   "id": "59e92317-15d7-420d-974f-e842d44f4d34",
   "metadata": {},
   "source": [
    "# so Geek For Geek have lot of Issue we will use it letter till now good we using \n",
    "Link: https://www.screener.in/company/compare/00000034/"
   ]
  },
  {
   "cell_type": "code",
   "execution_count": 106,
   "id": "0f126c1d-48b2-47b6-83ae-65e705e7b788",
   "metadata": {},
   "outputs": [],
   "source": [
    "import pandas as pd\n",
    "import requests \n",
    "from bs4 import BeautifulSoup # this is web scapping linraray"
   ]
  },
  {
   "cell_type": "code",
   "execution_count": 110,
   "id": "71b306e6-adc7-4a4c-b147-9b173638fb24",
   "metadata": {},
   "outputs": [
    {
     "data": {
      "text/plain": [
       "<Response [200]>"
      ]
     },
     "execution_count": 110,
     "metadata": {},
     "output_type": "execute_result"
    }
   ],
   "source": [
    "requests.get('https://www.screener.in/company/compare/00000034/')"
   ]
  },
  {
   "cell_type": "code",
   "execution_count": 166,
   "id": "448e6752-36e8-4013-98f5-f71762cf1e70",
   "metadata": {},
   "outputs": [],
   "source": [
    "Topcompanies = requests.get('https://www.screener.in/company/compare/00000034/?page=2').text"
   ]
  },
  {
   "cell_type": "code",
   "execution_count": 122,
   "id": "c6cb4389-186a-41f9-a423-abca121244b8",
   "metadata": {},
   "outputs": [],
   "source": [
    "# website"
   ]
  },
  {
   "cell_type": "code",
   "execution_count": 168,
   "id": "bc64a315-7547-48ef-9ddf-4a8b9ca5a19d",
   "metadata": {},
   "outputs": [],
   "source": [
    "soup = BeautifulSoup(Topcompanies,'lxml')"
   ]
  },
  {
   "cell_type": "code",
   "execution_count": 208,
   "id": "15766fb2-28a0-4ef7-950b-1902b0f4e50b",
   "metadata": {},
   "outputs": [],
   "source": [
    "# print(soup.prettify())"
   ]
  },
  {
   "cell_type": "markdown",
   "id": "ff4eb452-3e93-44e4-84bb-bf31d56f384b",
   "metadata": {},
   "source": [
    "## Alternative of find_all is soup.select\n",
    "\n",
    "🔹 Alternative: Using CSS Selectors\n",
    "If you want to find all <a> tags with target=\"_blank\", you can also use:\n",
    "\n",
    "soup.select('a[target=\"_blank\"]')"
   ]
  },
  {
   "cell_type": "code",
   "execution_count": 182,
   "id": "ab0f5e9b-a1e6-4cd9-b1ae-8a8aaf2a7b87",
   "metadata": {},
   "outputs": [],
   "source": [
    "names = soup.select('a[target=\"_blank\"]') \n"
   ]
  },
  {
   "cell_type": "code",
   "execution_count": 190,
   "id": "7b1da969-ca16-40fa-af84-daf24cef7cf4",
   "metadata": {},
   "outputs": [
    {
     "name": "stdout",
     "output_type": "stream",
     "text": [
      "Birlasoft Ltd\n",
      "Sonata Software\n",
      "Happiest Minds\n",
      "Intellect Design\n",
      "C.E. Info System\n",
      "Aurionpro Sol.\n",
      "Latent View\n",
      "eMudhra\n",
      "Mastek\n",
      "Tanla Platforms\n",
      "Route Mobile\n",
      "Black Box\n",
      "Protean eGov\n",
      "Rategain Travel\n",
      "Infibeam Avenues\n",
      "MPS\n",
      "Zaggle Prepaid\n",
      "Technvision Ven.\n",
      "Network People\n",
      "E2E Networks\n",
      "AXISCADES Tech.\n",
      "R Systems Intl.\n",
      "Cigniti Tech.\n",
      "63 Moons Tech.\n",
      "Datamatics Glob.\n"
     ]
    }
   ],
   "source": [
    "for i in names:\n",
    "    print(i.text.strip())"
   ]
  },
  {
   "cell_type": "code",
   "execution_count": 210,
   "id": "0ee38cae-7e0e-45ab-96fe-27b3099d9bf3",
   "metadata": {},
   "outputs": [],
   "source": [
    "data = soup.find_all('tr',{'data-row-company-id': True})[4]"
   ]
  },
  {
   "cell_type": "code",
   "execution_count": 212,
   "id": "8c21adf4-6a4d-4013-8b68-ed553afe6779",
   "metadata": {},
   "outputs": [
    {
     "data": {
      "text/plain": [
       "<tr data-row-company-id=\"1275122\">\n",
       "<td class=\"text\">30.</td>\n",
       "<td class=\"text\">\n",
       "<a href=\"/company/MAPMYINDIA/consolidated/\" target=\"_blank\">C.E. Info System</a>\n",
       "</td>\n",
       "<td>1611.00</td><td>64.27</td><td>8767.07</td><td>0.21</td><td>32.32</td><td>5.11</td><td>114.54</td><td>24.47</td><td>26.15</td>\n",
       "</tr>"
      ]
     },
     "execution_count": 212,
     "metadata": {},
     "output_type": "execute_result"
    }
   ],
   "source": [
    "data"
   ]
  },
  {
   "cell_type": "code",
   "execution_count": 214,
   "id": "4007f3e7-69e0-4d51-ae68-71fc439fe7cc",
   "metadata": {},
   "outputs": [],
   "source": [
    "table = soup.find_all('tbody')"
   ]
  },
  {
   "cell_type": "code",
   "execution_count": 219,
   "id": "df80c846-1692-4773-837d-7b1d11309a26",
   "metadata": {},
   "outputs": [],
   "source": [
    "# table"
   ]
  },
  {
   "cell_type": "markdown",
   "id": "0b458512-2cb5-4c6e-9f10-267ab98499fd",
   "metadata": {},
   "source": [
    "## Best Way"
   ]
  },
  {
   "cell_type": "code",
   "execution_count": 248,
   "id": "317fc4c2-9392-4a86-b4ca-47d284c29cab",
   "metadata": {},
   "outputs": [],
   "source": [
    "table = soup.find_all('tbody')\n"
   ]
  },
  {
   "cell_type": "code",
   "execution_count": 241,
   "id": "78802906-38e7-4110-9f4b-fef11f7e1c2f",
   "metadata": {},
   "outputs": [
    {
     "data": {
      "text/plain": [
       "['Birlasoft Ltd']"
      ]
     },
     "execution_count": 241,
     "metadata": {},
     "output_type": "execute_result"
    }
   ],
   "source": [
    "names = []\n",
    "for i in table:\n",
    "    names.append((i.select('a[target=\"_blank\"]')).text)\n",
    "\n",
    "names"
   ]
  },
  {
   "cell_type": "markdown",
   "id": "760f8dbf-c522-4bfd-a372-fd7a1dd95222",
   "metadata": {},
   "source": [
    "## Find all we will when we have not sure about number when we sure about number we can use find"
   ]
  },
  {
   "cell_type": "code",
   "execution_count": 250,
   "id": "dfdaee12-c598-4fba-b30e-2050468b007c",
   "metadata": {},
   "outputs": [],
   "source": [
    "table = soup.find('tbody')"
   ]
  },
  {
   "cell_type": "code",
   "execution_count": null,
   "id": "1226e7d7-bade-492a-a46e-d3d05f534d5e",
   "metadata": {},
   "outputs": [],
   "source": []
  }
 ],
 "metadata": {
  "kernelspec": {
   "display_name": "Python [conda env:base] *",
   "language": "python",
   "name": "conda-base-py"
  },
  "language_info": {
   "codemirror_mode": {
    "name": "ipython",
    "version": 3
   },
   "file_extension": ".py",
   "mimetype": "text/x-python",
   "name": "python",
   "nbconvert_exporter": "python",
   "pygments_lexer": "ipython3",
   "version": "3.12.7"
  }
 },
 "nbformat": 4,
 "nbformat_minor": 5
}
